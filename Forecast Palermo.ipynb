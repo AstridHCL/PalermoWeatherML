{
 "cells": [
  {
   "cell_type": "markdown",
   "id": "9f825009",
   "metadata": {},
   "source": [
    "# Palermo Forecast\n",
    "### Procedures:\n",
    "- Web scraping\n",
    "- Cleaning data\n",
    "- Data plot\n",
    "- Machine Learning\n",
    "- Tunning ML"
   ]
  },
  {
   "cell_type": "markdown",
   "id": "66345d1a",
   "metadata": {},
   "source": [
    "## 1. Packages"
   ]
  },
  {
   "cell_type": "code",
   "execution_count": 7,
   "id": "67e64bd3",
   "metadata": {},
   "outputs": [],
   "source": [
    "import requests\n",
    "import pandas as pd\n",
    "import io\n",
    "import os\n",
    "import glob\n",
    "from detect_delimiter import detect\n",
    "from datetime import date\n"
   ]
  },
  {
   "cell_type": "markdown",
   "id": "b1877573",
   "metadata": {},
   "source": [
    "## 2. Web scraping \n",
    "\n",
    "The following code will extract the data in cvs format from the website \"https://www.ilmeteo.it/portale/archivio-meteo/Palermo\" from January 1973 to actual data. All cvs files will be extracted and stored locally. "
   ]
  },
  {
   "cell_type": "code",
   "execution_count": 15,
   "id": "42c1ad04",
   "metadata": {},
   "outputs": [],
   "source": [
    "months=['Gennaio','Febbraio','Marzo','Aprile','Maggio','Giugno','Luglio','Agosto','Settembre','Ottobre','Novembre','Dicembre']\n",
    "today = date.today()\n",
    "for year in range(2022,(today.year-1)):\n",
    "    for month in months:\n",
    "        url=\"https://www.ilmeteo.it/portale/archivio-meteo/Palermo/\"+str(year)+\"/\"+month+\"?format=csv\"\n",
    "        response = requests.get(url, stream=True).content\n",
    "        df_response=pd.read_csv(io.StringIO(response.decode('utf-8')), sep=';')\n",
    "        df_response.to_csv('Palermo-'+str(year)+'-'+month+'.csv')\n",
    "        "
   ]
  },
  {
   "cell_type": "code",
   "execution_count": 16,
   "id": "c9118cab",
   "metadata": {},
   "outputs": [
    {
     "name": "stdout",
     "output_type": "stream",
     "text": [
      "['January', 'February', 'March', 'April', 'May', 'June', 'July', 'August', 'September']\n",
      "<_io.StringIO object at 0x00000254BCE748B0>\n"
     ]
    },
    {
     "ename": "ParserError",
     "evalue": "Error tokenizing data. C error: Expected 1 fields in line 4, saw 2\n",
     "output_type": "error",
     "traceback": [
      "\u001b[1;31m---------------------------------------------------------------------------\u001b[0m",
      "\u001b[1;31mParserError\u001b[0m                               Traceback (most recent call last)",
      "Cell \u001b[1;32mIn[16], line 8\u001b[0m\n\u001b[0;32m      6\u001b[0m response \u001b[38;5;241m=\u001b[39m requests\u001b[38;5;241m.\u001b[39mget(url, stream\u001b[38;5;241m=\u001b[39m\u001b[38;5;28;01mTrue\u001b[39;00m)\u001b[38;5;241m.\u001b[39mcontent\n\u001b[0;32m      7\u001b[0m \u001b[38;5;28mprint\u001b[39m(io\u001b[38;5;241m.\u001b[39mStringIO(response\u001b[38;5;241m.\u001b[39mdecode(\u001b[38;5;124m'\u001b[39m\u001b[38;5;124mutf-8\u001b[39m\u001b[38;5;124m'\u001b[39m)))\n\u001b[1;32m----> 8\u001b[0m df_response\u001b[38;5;241m=\u001b[39m\u001b[43mpd\u001b[49m\u001b[38;5;241;43m.\u001b[39;49m\u001b[43mread_csv\u001b[49m\u001b[43m(\u001b[49m\u001b[43mio\u001b[49m\u001b[38;5;241;43m.\u001b[39;49m\u001b[43mStringIO\u001b[49m\u001b[43m(\u001b[49m\u001b[43mresponse\u001b[49m\u001b[38;5;241;43m.\u001b[39;49m\u001b[43mdecode\u001b[49m\u001b[43m(\u001b[49m\u001b[38;5;124;43m'\u001b[39;49m\u001b[38;5;124;43mutf-8\u001b[39;49m\u001b[38;5;124;43m'\u001b[39;49m\u001b[43m)\u001b[49m\u001b[43m)\u001b[49m\u001b[43m,\u001b[49m\u001b[43m \u001b[49m\u001b[43msep\u001b[49m\u001b[38;5;241;43m=\u001b[39;49m\u001b[38;5;124;43m'\u001b[39;49m\u001b[38;5;124;43m;\u001b[39;49m\u001b[38;5;124;43m'\u001b[39;49m\u001b[43m)\u001b[49m\n\u001b[0;32m      9\u001b[0m df_response\u001b[38;5;241m.\u001b[39mto_csv(\u001b[38;5;124m'\u001b[39m\u001b[38;5;124mPalermo-\u001b[39m\u001b[38;5;124m'\u001b[39m\u001b[38;5;241m+\u001b[39m\u001b[38;5;28mstr\u001b[39m(year)\u001b[38;5;241m+\u001b[39m\u001b[38;5;124m'\u001b[39m\u001b[38;5;124m-\u001b[39m\u001b[38;5;124m'\u001b[39m\u001b[38;5;241m+\u001b[39mmonth\u001b[38;5;241m+\u001b[39m\u001b[38;5;124m'\u001b[39m\u001b[38;5;124m.csv\u001b[39m\u001b[38;5;124m'\u001b[39m)\n",
      "File \u001b[1;32m~\\AppData\\Local\\Packages\\PythonSoftwareFoundation.Python.3.10_qbz5n2kfra8p0\\LocalCache\\local-packages\\Python310\\site-packages\\pandas\\util\\_decorators.py:211\u001b[0m, in \u001b[0;36mdeprecate_kwarg.<locals>._deprecate_kwarg.<locals>.wrapper\u001b[1;34m(*args, **kwargs)\u001b[0m\n\u001b[0;32m    209\u001b[0m     \u001b[38;5;28;01melse\u001b[39;00m:\n\u001b[0;32m    210\u001b[0m         kwargs[new_arg_name] \u001b[38;5;241m=\u001b[39m new_arg_value\n\u001b[1;32m--> 211\u001b[0m \u001b[38;5;28;01mreturn\u001b[39;00m func(\u001b[38;5;241m*\u001b[39margs, \u001b[38;5;241m*\u001b[39m\u001b[38;5;241m*\u001b[39mkwargs)\n",
      "File \u001b[1;32m~\\AppData\\Local\\Packages\\PythonSoftwareFoundation.Python.3.10_qbz5n2kfra8p0\\LocalCache\\local-packages\\Python310\\site-packages\\pandas\\util\\_decorators.py:331\u001b[0m, in \u001b[0;36mdeprecate_nonkeyword_arguments.<locals>.decorate.<locals>.wrapper\u001b[1;34m(*args, **kwargs)\u001b[0m\n\u001b[0;32m    325\u001b[0m \u001b[38;5;28;01mif\u001b[39;00m \u001b[38;5;28mlen\u001b[39m(args) \u001b[38;5;241m>\u001b[39m num_allow_args:\n\u001b[0;32m    326\u001b[0m     warnings\u001b[38;5;241m.\u001b[39mwarn(\n\u001b[0;32m    327\u001b[0m         msg\u001b[38;5;241m.\u001b[39mformat(arguments\u001b[38;5;241m=\u001b[39m_format_argument_list(allow_args)),\n\u001b[0;32m    328\u001b[0m         \u001b[38;5;167;01mFutureWarning\u001b[39;00m,\n\u001b[0;32m    329\u001b[0m         stacklevel\u001b[38;5;241m=\u001b[39mfind_stack_level(),\n\u001b[0;32m    330\u001b[0m     )\n\u001b[1;32m--> 331\u001b[0m \u001b[38;5;28;01mreturn\u001b[39;00m func(\u001b[38;5;241m*\u001b[39margs, \u001b[38;5;241m*\u001b[39m\u001b[38;5;241m*\u001b[39mkwargs)\n",
      "File \u001b[1;32m~\\AppData\\Local\\Packages\\PythonSoftwareFoundation.Python.3.10_qbz5n2kfra8p0\\LocalCache\\local-packages\\Python310\\site-packages\\pandas\\io\\parsers\\readers.py:950\u001b[0m, in \u001b[0;36mread_csv\u001b[1;34m(filepath_or_buffer, sep, delimiter, header, names, index_col, usecols, squeeze, prefix, mangle_dupe_cols, dtype, engine, converters, true_values, false_values, skipinitialspace, skiprows, skipfooter, nrows, na_values, keep_default_na, na_filter, verbose, skip_blank_lines, parse_dates, infer_datetime_format, keep_date_col, date_parser, dayfirst, cache_dates, iterator, chunksize, compression, thousands, decimal, lineterminator, quotechar, quoting, doublequote, escapechar, comment, encoding, encoding_errors, dialect, error_bad_lines, warn_bad_lines, on_bad_lines, delim_whitespace, low_memory, memory_map, float_precision, storage_options)\u001b[0m\n\u001b[0;32m    935\u001b[0m kwds_defaults \u001b[38;5;241m=\u001b[39m _refine_defaults_read(\n\u001b[0;32m    936\u001b[0m     dialect,\n\u001b[0;32m    937\u001b[0m     delimiter,\n\u001b[1;32m   (...)\u001b[0m\n\u001b[0;32m    946\u001b[0m     defaults\u001b[38;5;241m=\u001b[39m{\u001b[38;5;124m\"\u001b[39m\u001b[38;5;124mdelimiter\u001b[39m\u001b[38;5;124m\"\u001b[39m: \u001b[38;5;124m\"\u001b[39m\u001b[38;5;124m,\u001b[39m\u001b[38;5;124m\"\u001b[39m},\n\u001b[0;32m    947\u001b[0m )\n\u001b[0;32m    948\u001b[0m kwds\u001b[38;5;241m.\u001b[39mupdate(kwds_defaults)\n\u001b[1;32m--> 950\u001b[0m \u001b[38;5;28;01mreturn\u001b[39;00m \u001b[43m_read\u001b[49m\u001b[43m(\u001b[49m\u001b[43mfilepath_or_buffer\u001b[49m\u001b[43m,\u001b[49m\u001b[43m \u001b[49m\u001b[43mkwds\u001b[49m\u001b[43m)\u001b[49m\n",
      "File \u001b[1;32m~\\AppData\\Local\\Packages\\PythonSoftwareFoundation.Python.3.10_qbz5n2kfra8p0\\LocalCache\\local-packages\\Python310\\site-packages\\pandas\\io\\parsers\\readers.py:611\u001b[0m, in \u001b[0;36m_read\u001b[1;34m(filepath_or_buffer, kwds)\u001b[0m\n\u001b[0;32m    608\u001b[0m     \u001b[38;5;28;01mreturn\u001b[39;00m parser\n\u001b[0;32m    610\u001b[0m \u001b[38;5;28;01mwith\u001b[39;00m parser:\n\u001b[1;32m--> 611\u001b[0m     \u001b[38;5;28;01mreturn\u001b[39;00m \u001b[43mparser\u001b[49m\u001b[38;5;241;43m.\u001b[39;49m\u001b[43mread\u001b[49m\u001b[43m(\u001b[49m\u001b[43mnrows\u001b[49m\u001b[43m)\u001b[49m\n",
      "File \u001b[1;32m~\\AppData\\Local\\Packages\\PythonSoftwareFoundation.Python.3.10_qbz5n2kfra8p0\\LocalCache\\local-packages\\Python310\\site-packages\\pandas\\io\\parsers\\readers.py:1778\u001b[0m, in \u001b[0;36mTextFileReader.read\u001b[1;34m(self, nrows)\u001b[0m\n\u001b[0;32m   1771\u001b[0m nrows \u001b[38;5;241m=\u001b[39m validate_integer(\u001b[38;5;124m\"\u001b[39m\u001b[38;5;124mnrows\u001b[39m\u001b[38;5;124m\"\u001b[39m, nrows)\n\u001b[0;32m   1772\u001b[0m \u001b[38;5;28;01mtry\u001b[39;00m:\n\u001b[0;32m   1773\u001b[0m     \u001b[38;5;66;03m# error: \"ParserBase\" has no attribute \"read\"\u001b[39;00m\n\u001b[0;32m   1774\u001b[0m     (\n\u001b[0;32m   1775\u001b[0m         index,\n\u001b[0;32m   1776\u001b[0m         columns,\n\u001b[0;32m   1777\u001b[0m         col_dict,\n\u001b[1;32m-> 1778\u001b[0m     ) \u001b[38;5;241m=\u001b[39m \u001b[38;5;28;43mself\u001b[39;49m\u001b[38;5;241;43m.\u001b[39;49m\u001b[43m_engine\u001b[49m\u001b[38;5;241;43m.\u001b[39;49m\u001b[43mread\u001b[49m\u001b[43m(\u001b[49m\u001b[43m  \u001b[49m\u001b[38;5;66;43;03m# type: ignore[attr-defined]\u001b[39;49;00m\n\u001b[0;32m   1779\u001b[0m \u001b[43m        \u001b[49m\u001b[43mnrows\u001b[49m\n\u001b[0;32m   1780\u001b[0m \u001b[43m    \u001b[49m\u001b[43m)\u001b[49m\n\u001b[0;32m   1781\u001b[0m \u001b[38;5;28;01mexcept\u001b[39;00m \u001b[38;5;167;01mException\u001b[39;00m:\n\u001b[0;32m   1782\u001b[0m     \u001b[38;5;28mself\u001b[39m\u001b[38;5;241m.\u001b[39mclose()\n",
      "File \u001b[1;32m~\\AppData\\Local\\Packages\\PythonSoftwareFoundation.Python.3.10_qbz5n2kfra8p0\\LocalCache\\local-packages\\Python310\\site-packages\\pandas\\io\\parsers\\c_parser_wrapper.py:230\u001b[0m, in \u001b[0;36mCParserWrapper.read\u001b[1;34m(self, nrows)\u001b[0m\n\u001b[0;32m    228\u001b[0m \u001b[38;5;28;01mtry\u001b[39;00m:\n\u001b[0;32m    229\u001b[0m     \u001b[38;5;28;01mif\u001b[39;00m \u001b[38;5;28mself\u001b[39m\u001b[38;5;241m.\u001b[39mlow_memory:\n\u001b[1;32m--> 230\u001b[0m         chunks \u001b[38;5;241m=\u001b[39m \u001b[38;5;28;43mself\u001b[39;49m\u001b[38;5;241;43m.\u001b[39;49m\u001b[43m_reader\u001b[49m\u001b[38;5;241;43m.\u001b[39;49m\u001b[43mread_low_memory\u001b[49m\u001b[43m(\u001b[49m\u001b[43mnrows\u001b[49m\u001b[43m)\u001b[49m\n\u001b[0;32m    231\u001b[0m         \u001b[38;5;66;03m# destructive to chunks\u001b[39;00m\n\u001b[0;32m    232\u001b[0m         data \u001b[38;5;241m=\u001b[39m _concatenate_chunks(chunks)\n",
      "File \u001b[1;32m~\\AppData\\Local\\Packages\\PythonSoftwareFoundation.Python.3.10_qbz5n2kfra8p0\\LocalCache\\local-packages\\Python310\\site-packages\\pandas\\_libs\\parsers.pyx:808\u001b[0m, in \u001b[0;36mpandas._libs.parsers.TextReader.read_low_memory\u001b[1;34m()\u001b[0m\n",
      "File \u001b[1;32m~\\AppData\\Local\\Packages\\PythonSoftwareFoundation.Python.3.10_qbz5n2kfra8p0\\LocalCache\\local-packages\\Python310\\site-packages\\pandas\\_libs\\parsers.pyx:866\u001b[0m, in \u001b[0;36mpandas._libs.parsers.TextReader._read_rows\u001b[1;34m()\u001b[0m\n",
      "File \u001b[1;32m~\\AppData\\Local\\Packages\\PythonSoftwareFoundation.Python.3.10_qbz5n2kfra8p0\\LocalCache\\local-packages\\Python310\\site-packages\\pandas\\_libs\\parsers.pyx:852\u001b[0m, in \u001b[0;36mpandas._libs.parsers.TextReader._tokenize_rows\u001b[1;34m()\u001b[0m\n",
      "File \u001b[1;32m~\\AppData\\Local\\Packages\\PythonSoftwareFoundation.Python.3.10_qbz5n2kfra8p0\\LocalCache\\local-packages\\Python310\\site-packages\\pandas\\_libs\\parsers.pyx:1973\u001b[0m, in \u001b[0;36mpandas._libs.parsers.raise_parser_error\u001b[1;34m()\u001b[0m\n",
      "\u001b[1;31mParserError\u001b[0m: Error tokenizing data. C error: Expected 1 fields in line 4, saw 2\n"
     ]
    }
   ],
   "source": [
    "months=list(calendar.month_name[1:today.month-1])\n",
    "print(months)\n",
    "year= today.year\n",
    "for month in months:\n",
    "    url=\"https://www.ilmeteo.it/portale/archivio-meteo/Palermo/\"+str(year)+\"/\"+month+\"?format=csv\"\n",
    "    response = requests.get(url, stream=True).content\n",
    "    print(io.StringIO(response.decode('utf-8')))\n",
    "    df_response=pd.read_csv(io.StringIO(response.decode('utf-8')), sep=';')\n",
    "    df_response.to_csv('Palermo-'+str(year)+'-'+month+'.csv')\n",
    "\n",
    "  "
   ]
  },
  {
   "cell_type": "markdown",
   "id": "850443ba",
   "metadata": {},
   "source": [
    "## 3. Mearging data\n",
    "Find the name of all csv files and combine the information into a single data frame. I also included the files from 2023"
   ]
  },
  {
   "cell_type": "code",
   "execution_count": null,
   "id": "47438b16",
   "metadata": {},
   "outputs": [],
   "source": [
    "csv_files = glob.glob('*.{}'.format('csv'))\n",
    "df_all= pd.DataFrame()\n",
    "\n",
    "for file in csv_files:\n",
    "    df_temp= pd.read_csv(file)\n",
    "    df_all= pd.concat(df_all,df_temp, ignore_index=True)\n",
    "    \n",
    "print(df_all)"
   ]
  },
  {
   "cell_type": "markdown",
   "id": "e2f987a7",
   "metadata": {},
   "source": [
    "## 4. Cleaning data"
   ]
  },
  {
   "cell_type": "code",
   "execution_count": null,
   "id": "253ae67a",
   "metadata": {},
   "outputs": [],
   "source": [
    "weather= df_all.copy()\n",
    "weather.apply(pd.isnull).sum()\n",
    "\n",
    "core_weather=weather[['TMEDIA °C','TMIN °C','TMAX °C','PIOGGIA mm']].copy()\n",
    "\n",
    "core_weather[pd.isnull(core_weather['TMEDIA °C'])]\n",
    "core_weather=core_weather.fillna(method='ffill')\n",
    "\n",
    "core_weather.index=pd.to_datetime(core_weather.index)\n",
    "core_weather['TMEDIA °C']=pd.to_numeric(core_weather['TMEDIA °C'])\n",
    "core_weather['TMIN °C']=pd.to_numeric(core_weather['TMIN °C'])\n",
    "core_weather['TMAX °C']=pd.to_numeric(core_weather['TMAX °C'])\n",
    "core_weather['PIOGGIA mm']=pd.to_numeric(core_weather['PIOGGIA mm'])"
   ]
  },
  {
   "cell_type": "markdown",
   "id": "1f0a0a75",
   "metadata": {},
   "source": [
    "## 5. Data analysis"
   ]
  },
  {
   "cell_type": "code",
   "execution_count": null,
   "id": "1e389736",
   "metadata": {},
   "outputs": [],
   "source": [
    "core_weather[['TMIN °C','TMAX °C']].plot()\n",
    "core_weather.index.year.value_counts().sort_index()\n",
    "\n",
    "core_weather[\"target\"]= core_weather.shift(-1)['TMEDIA °C']\n",
    "core_weather= core_weather.iloc[:-1,:].copy()"
   ]
  },
  {
   "cell_type": "markdown",
   "id": "f62aeb1e",
   "metadata": {},
   "source": [
    "## 6. Machine Learning"
   ]
  },
  {
   "cell_type": "code",
   "execution_count": null,
   "id": "d3261283",
   "metadata": {},
   "outputs": [],
   "source": [
    "from sklearn.linear_model import Ridge\n",
    "\n",
    "def create_predictions(predictors, core_weather, reg):\n",
    "    train = core_weather.loc[:\"2022-12-31\"]\n",
    "    test = core_weather.loc[\"2023-01-01\":]\n",
    "    reg.fit(train[predictors], train[\"target\"])\n",
    "    Ridge(alpha=0.1)\n",
    "    predictions = reg.predict(test[predictors])\n",
    "    error= mean_absolute_error(test[\"target\"], predictions)\n",
    "    combined= pd.concat([test[\"target\"],pd.Series(predictions,index=test.index)],axis=1)\n",
    "    combined.columns=[\"actual\",\"predictions\"]\n",
    "    return error, combined\n",
    "\n",
    "\n",
    "reg= Ridge(alpha=.1)\n",
    "\n",
    "predictors = ['TMEDIA °C','TMIN °C','TMAX °C','PIOGGIA mm']\n",
    "\n",
    "error, combined = create_predictions(predictors, core_weather, reg)\n",
    "print(error)"
   ]
  },
  {
   "cell_type": "markdown",
   "id": "ce5763f8",
   "metadata": {},
   "source": [
    "## 7. Tunning ML with extra data"
   ]
  },
  {
   "cell_type": "code",
   "execution_count": null,
   "id": "a01ef536",
   "metadata": {},
   "outputs": [],
   "source": [
    "core_weather[\"month max\"]= core_weather['TMEDIA °C'].rolling(30).mean()\n",
    "core_weather= core_weather.iloc[30:,:].copy()\n",
    "core_weather[\"min_max\"]= core_weather['TMIN °C']/ core_weather['TMAX °C']\n",
    "core_weather['monthly_avg']= core_weather['TMEDIA °C'].groupby(core_weather.index.month).apply(lambda x: x.expanding(1).mean())\n",
    "predictors=   ['TMEDIA °C','TMIN °C','TMAX °C','PIOGGIA mm','month max','monthly_avg']\n",
    "error, combined = create_predictions(predictors, core_weather, reg)\n",
    "print(error)"
   ]
  },
  {
   "cell_type": "markdown",
   "id": "bdd11419",
   "metadata": {},
   "source": [
    "## 8. Variables analysis"
   ]
  },
  {
   "cell_type": "code",
   "execution_count": null,
   "id": "b4a9d15a",
   "metadata": {},
   "outputs": [],
   "source": [
    "reg.coef_\n",
    "\n",
    "core_weather.corr()[\"target\"]\n",
    "combined[\"diff\"]=(combined[\"actual\"]-combined[\"predictions\"]).abs()\n",
    "\n",
    "combined.sort_values(\"diff\",ascending=False).head()\n"
   ]
  }
 ],
 "metadata": {
  "kernelspec": {
   "display_name": "Python 3 (ipykernel)",
   "language": "python",
   "name": "python3"
  },
  "language_info": {
   "codemirror_mode": {
    "name": "ipython",
    "version": 3
   },
   "file_extension": ".py",
   "mimetype": "text/x-python",
   "name": "python",
   "nbconvert_exporter": "python",
   "pygments_lexer": "ipython3",
   "version": "3.10.11"
  }
 },
 "nbformat": 4,
 "nbformat_minor": 5
}
