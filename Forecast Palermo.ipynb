{
 "cells": [
  {
   "cell_type": "markdown",
   "id": "9f825009",
   "metadata": {},
   "source": [
    "# Palermo Forecast\n",
    "### Procedures:\n",
    "- Web scraping\n",
    "- Cleaning data\n",
    "- Data plot\n",
    "- Machine Learning\n",
    "- Tunning ML"
   ]
  },
  {
   "cell_type": "markdown",
   "id": "66345d1a",
   "metadata": {},
   "source": [
    "## 1. Packages"
   ]
  },
  {
   "cell_type": "code",
   "execution_count": 1,
   "id": "67e64bd3",
   "metadata": {},
   "outputs": [],
   "source": [
    "import requests\n",
    "import pandas as pd\n",
    "import io\n",
    "import os\n",
    "import glob\n",
    "from detect_delimiter import detect\n",
    "from datetime import date\n"
   ]
  },
  {
   "cell_type": "markdown",
   "id": "b1877573",
   "metadata": {},
   "source": [
    "## 2. Web scraping \n",
    "\n",
    "The following code will extract the data in cvs format from the website \"https://www.ilmeteo.it/portale/archivio-meteo/Palermo\" from January 1973 to actual data. All cvs files will be extracted and stored locally. "
   ]
  },
  {
   "cell_type": "code",
   "execution_count": 2,
   "id": "42c1ad04",
   "metadata": {},
   "outputs": [],
   "source": [
    "months=['Gennaio','Febbraio','Marzo','Aprile','Maggio','Giugno','Luglio','Agosto','Settembre','Ottobre','Novembre','Dicembre']\n",
    "today = date.today()\n",
    "for year in range(1973,(today.year-1)):\n",
    "    for month in months:\n",
    "        url=\"https://www.ilmeteo.it/portale/archivio-meteo/Palermo/\"+str(year)+\"/\"+month+\"?format=csv\"\n",
    "        response = requests.get(url, stream=True).content\n",
    "        df_response=pd.read_csv(io.StringIO(response.decode('utf-8')), sep=';')\n",
    "        df_response.to_csv('Palermo-'+str(year)+'-'+month+'.csv')\n",
    "        "
   ]
  },
  {
   "cell_type": "code",
   "execution_count": 3,
   "id": "c9118cab",
   "metadata": {},
   "outputs": [],
   "source": [
    "monthsY=months[0:today.month-1]\n",
    "year= today.year\n",
    "for month in monthsY:\n",
    "    url=\"https://www.ilmeteo.it/portale/archivio-meteo/Palermo/\"+str(year)+\"/\"+month+\"?format=csv\"\n",
    "    response = requests.get(url, stream=True).content\n",
    "    df_response=pd.read_csv(io.StringIO(response.decode('utf-8')), sep=';')\n",
    "    df_response.to_csv('Palermo-'+str(year)+'-'+month+'.csv')\n",
    "\n",
    "  "
   ]
  },
  {
   "cell_type": "markdown",
   "id": "850443ba",
   "metadata": {},
   "source": [
    "## 3. Mearging data\n",
    "Find the name of all csv files and combine the information into a single data frame. I also included the files from 2023"
   ]
  },
  {
   "cell_type": "code",
   "execution_count": 4,
   "id": "26b392fb",
   "metadata": {},
   "outputs": [
    {
     "name": "stdout",
     "output_type": "stream",
     "text": [
      "['Palermo-1973-Agosto.csv', 'Palermo-1973-Aprile.csv', 'Palermo-1973-Dicembre.csv', 'Palermo-1973-Febbraio.csv', 'Palermo-1973-Gennaio.csv', 'Palermo-1973-Giugno.csv', 'Palermo-1973-Luglio.csv', 'Palermo-1973-Maggio.csv', 'Palermo-1973-Marzo.csv', 'Palermo-1973-Novembre.csv', 'Palermo-1973-Ottobre.csv', 'Palermo-1973-Settembre.csv', 'Palermo-1974-Agosto.csv', 'Palermo-1974-Aprile.csv', 'Palermo-1974-Dicembre.csv', 'Palermo-1974-Febbraio.csv', 'Palermo-1974-Gennaio.csv', 'Palermo-1974-Giugno.csv', 'Palermo-1974-Luglio.csv', 'Palermo-1974-Maggio.csv', 'Palermo-1974-Marzo.csv', 'Palermo-1974-Novembre.csv', 'Palermo-1974-Ottobre.csv', 'Palermo-1974-Settembre.csv', 'Palermo-1975-Agosto.csv', 'Palermo-1975-Aprile.csv', 'Palermo-1975-Dicembre.csv', 'Palermo-1975-Febbraio.csv', 'Palermo-1975-Gennaio.csv', 'Palermo-1975-Giugno.csv', 'Palermo-1975-Luglio.csv', 'Palermo-1975-Maggio.csv', 'Palermo-1975-Marzo.csv', 'Palermo-1975-Novembre.csv', 'Palermo-1975-Ottobre.csv', 'Palermo-1975-Settembre.csv', 'Palermo-1976-Agosto.csv', 'Palermo-1976-Aprile.csv', 'Palermo-1976-Dicembre.csv', 'Palermo-1976-Febbraio.csv', 'Palermo-1976-Gennaio.csv', 'Palermo-1976-Giugno.csv', 'Palermo-1976-Luglio.csv', 'Palermo-1976-Maggio.csv', 'Palermo-1976-Marzo.csv', 'Palermo-1976-Novembre.csv', 'Palermo-1976-Ottobre.csv', 'Palermo-1976-Settembre.csv', 'Palermo-1977-Agosto.csv', 'Palermo-1977-Aprile.csv', 'Palermo-1977-Dicembre.csv', 'Palermo-1977-Febbraio.csv', 'Palermo-1977-Gennaio.csv', 'Palermo-1977-Giugno.csv', 'Palermo-1977-Luglio.csv', 'Palermo-1977-Maggio.csv', 'Palermo-1977-Marzo.csv', 'Palermo-1977-Novembre.csv', 'Palermo-1977-Ottobre.csv', 'Palermo-1977-Settembre.csv', 'Palermo-1978-Agosto.csv', 'Palermo-1978-Aprile.csv', 'Palermo-1978-Dicembre.csv', 'Palermo-1978-Febbraio.csv', 'Palermo-1978-Gennaio.csv', 'Palermo-1978-Giugno.csv', 'Palermo-1978-Luglio.csv', 'Palermo-1978-Maggio.csv', 'Palermo-1978-Marzo.csv', 'Palermo-1978-Novembre.csv', 'Palermo-1978-Ottobre.csv', 'Palermo-1978-Settembre.csv', 'Palermo-1979-Agosto.csv', 'Palermo-1979-Aprile.csv', 'Palermo-1979-Dicembre.csv', 'Palermo-1979-Febbraio.csv', 'Palermo-1979-Gennaio.csv', 'Palermo-1979-Giugno.csv', 'Palermo-1979-Luglio.csv', 'Palermo-1979-Maggio.csv', 'Palermo-1979-Marzo.csv', 'Palermo-1979-Novembre.csv', 'Palermo-1979-Ottobre.csv', 'Palermo-1979-Settembre.csv', 'Palermo-1980-Agosto.csv', 'Palermo-1980-Aprile.csv', 'Palermo-1980-Dicembre.csv', 'Palermo-1980-Febbraio.csv', 'Palermo-1980-Gennaio.csv', 'Palermo-1980-Giugno.csv', 'Palermo-1980-Luglio.csv', 'Palermo-1980-Maggio.csv', 'Palermo-1980-Marzo.csv', 'Palermo-1980-Novembre.csv', 'Palermo-1980-Ottobre.csv', 'Palermo-1980-Settembre.csv', 'Palermo-1981-Agosto.csv', 'Palermo-1981-Aprile.csv', 'Palermo-1981-Dicembre.csv', 'Palermo-1981-Febbraio.csv', 'Palermo-1981-Gennaio.csv', 'Palermo-1981-Giugno.csv', 'Palermo-1981-Luglio.csv', 'Palermo-1981-Maggio.csv', 'Palermo-1981-Marzo.csv', 'Palermo-1981-Novembre.csv', 'Palermo-1981-Ottobre.csv', 'Palermo-1981-Settembre.csv', 'Palermo-1982-Agosto.csv', 'Palermo-1982-Aprile.csv', 'Palermo-1982-Dicembre.csv', 'Palermo-1982-Febbraio.csv', 'Palermo-1982-Gennaio.csv', 'Palermo-1982-Giugno.csv', 'Palermo-1982-Luglio.csv', 'Palermo-1982-Maggio.csv', 'Palermo-1982-Marzo.csv', 'Palermo-1982-Novembre.csv', 'Palermo-1982-Ottobre.csv', 'Palermo-1982-Settembre.csv', 'Palermo-1983-Agosto.csv', 'Palermo-1983-Aprile.csv', 'Palermo-1983-Dicembre.csv', 'Palermo-1983-Febbraio.csv', 'Palermo-1983-Gennaio.csv', 'Palermo-1983-Giugno.csv', 'Palermo-1983-Luglio.csv', 'Palermo-1983-Maggio.csv', 'Palermo-1983-Marzo.csv', 'Palermo-1983-Novembre.csv', 'Palermo-1983-Ottobre.csv', 'Palermo-1983-Settembre.csv', 'Palermo-1984-Agosto.csv', 'Palermo-1984-Aprile.csv', 'Palermo-1984-Dicembre.csv', 'Palermo-1984-Febbraio.csv', 'Palermo-1984-Gennaio.csv', 'Palermo-1984-Giugno.csv', 'Palermo-1984-Luglio.csv', 'Palermo-1984-Maggio.csv', 'Palermo-1984-Marzo.csv', 'Palermo-1984-Novembre.csv', 'Palermo-1984-Ottobre.csv', 'Palermo-1984-Settembre.csv', 'Palermo-1985-Agosto.csv', 'Palermo-1985-Aprile.csv', 'Palermo-1985-Dicembre.csv', 'Palermo-1985-Febbraio.csv', 'Palermo-1985-Gennaio.csv', 'Palermo-1985-Giugno.csv', 'Palermo-1985-Luglio.csv', 'Palermo-1985-Maggio.csv', 'Palermo-1985-Marzo.csv', 'Palermo-1985-Novembre.csv', 'Palermo-1985-Ottobre.csv', 'Palermo-1985-Settembre.csv', 'Palermo-1986-Agosto.csv', 'Palermo-1986-Aprile.csv', 'Palermo-1986-Dicembre.csv', 'Palermo-1986-Febbraio.csv', 'Palermo-1986-Gennaio.csv', 'Palermo-1986-Giugno.csv', 'Palermo-1986-Luglio.csv', 'Palermo-1986-Maggio.csv', 'Palermo-1986-Marzo.csv', 'Palermo-1986-Novembre.csv', 'Palermo-1986-Ottobre.csv', 'Palermo-1986-Settembre.csv', 'Palermo-1987-Agosto.csv', 'Palermo-1987-Aprile.csv', 'Palermo-1987-Dicembre.csv', 'Palermo-1987-Febbraio.csv', 'Palermo-1987-Gennaio.csv', 'Palermo-1987-Giugno.csv', 'Palermo-1987-Luglio.csv', 'Palermo-1987-Maggio.csv', 'Palermo-1987-Marzo.csv', 'Palermo-1987-Novembre.csv', 'Palermo-1987-Ottobre.csv', 'Palermo-1987-Settembre.csv', 'Palermo-1988-Agosto.csv', 'Palermo-1988-Aprile.csv', 'Palermo-1988-Dicembre.csv', 'Palermo-1988-Febbraio.csv', 'Palermo-1988-Gennaio.csv', 'Palermo-1988-Giugno.csv', 'Palermo-1988-Luglio.csv', 'Palermo-1988-Maggio.csv', 'Palermo-1988-Marzo.csv', 'Palermo-1988-Novembre.csv', 'Palermo-1988-Ottobre.csv', 'Palermo-1988-Settembre.csv', 'Palermo-1989-Agosto.csv', 'Palermo-1989-Aprile.csv', 'Palermo-1989-Dicembre.csv', 'Palermo-1989-Febbraio.csv', 'Palermo-1989-Gennaio.csv', 'Palermo-1989-Giugno.csv', 'Palermo-1989-Luglio.csv', 'Palermo-1989-Maggio.csv', 'Palermo-1989-Marzo.csv', 'Palermo-1989-Novembre.csv', 'Palermo-1989-Ottobre.csv', 'Palermo-1989-Settembre.csv', 'Palermo-1990-Agosto.csv', 'Palermo-1990-Aprile.csv', 'Palermo-1990-Dicembre.csv', 'Palermo-1990-Febbraio.csv', 'Palermo-1990-Gennaio.csv', 'Palermo-1990-Giugno.csv', 'Palermo-1990-Luglio.csv', 'Palermo-1990-Maggio.csv', 'Palermo-1990-Marzo.csv', 'Palermo-1990-Novembre.csv', 'Palermo-1990-Ottobre.csv', 'Palermo-1990-Settembre.csv', 'Palermo-1991-Agosto.csv', 'Palermo-1991-Aprile.csv', 'Palermo-1991-Dicembre.csv', 'Palermo-1991-Febbraio.csv', 'Palermo-1991-Gennaio.csv', 'Palermo-1991-Giugno.csv', 'Palermo-1991-Luglio.csv', 'Palermo-1991-Maggio.csv', 'Palermo-1991-Marzo.csv', 'Palermo-1991-Novembre.csv', 'Palermo-1991-Ottobre.csv', 'Palermo-1991-Settembre.csv', 'Palermo-1992-Agosto.csv', 'Palermo-1992-Aprile.csv', 'Palermo-1992-Dicembre.csv', 'Palermo-1992-Febbraio.csv', 'Palermo-1992-Gennaio.csv', 'Palermo-1992-Giugno.csv', 'Palermo-1992-Luglio.csv', 'Palermo-1992-Maggio.csv', 'Palermo-1992-Marzo.csv', 'Palermo-1992-Novembre.csv', 'Palermo-1992-Ottobre.csv', 'Palermo-1992-Settembre.csv', 'Palermo-1993-Agosto.csv', 'Palermo-1993-Aprile.csv', 'Palermo-1993-Dicembre.csv', 'Palermo-1993-Febbraio.csv', 'Palermo-1993-Gennaio.csv', 'Palermo-1993-Giugno.csv', 'Palermo-1993-Luglio.csv', 'Palermo-1993-Maggio.csv', 'Palermo-1993-Marzo.csv', 'Palermo-1993-Novembre.csv', 'Palermo-1993-Ottobre.csv', 'Palermo-1993-Settembre.csv', 'Palermo-1994-Agosto.csv', 'Palermo-1994-Aprile.csv', 'Palermo-1994-Dicembre.csv', 'Palermo-1994-Febbraio.csv', 'Palermo-1994-Gennaio.csv', 'Palermo-1994-Giugno.csv', 'Palermo-1994-Luglio.csv', 'Palermo-1994-Maggio.csv', 'Palermo-1994-Marzo.csv', 'Palermo-1994-Novembre.csv', 'Palermo-1994-Ottobre.csv', 'Palermo-1994-Settembre.csv', 'Palermo-1995-Agosto.csv', 'Palermo-1995-Aprile.csv', 'Palermo-1995-Dicembre.csv', 'Palermo-1995-Febbraio.csv', 'Palermo-1995-Gennaio.csv', 'Palermo-1995-Giugno.csv', 'Palermo-1995-Luglio.csv', 'Palermo-1995-Maggio.csv', 'Palermo-1995-Marzo.csv', 'Palermo-1995-Novembre.csv', 'Palermo-1995-Ottobre.csv', 'Palermo-1995-Settembre.csv', 'Palermo-1996-Agosto.csv', 'Palermo-1996-Aprile.csv', 'Palermo-1996-Dicembre.csv', 'Palermo-1996-Febbraio.csv', 'Palermo-1996-Gennaio.csv', 'Palermo-1996-Giugno.csv', 'Palermo-1996-Luglio.csv', 'Palermo-1996-Maggio.csv', 'Palermo-1996-Marzo.csv', 'Palermo-1996-Novembre.csv', 'Palermo-1996-Ottobre.csv', 'Palermo-1996-Settembre.csv', 'Palermo-1997-Agosto.csv', 'Palermo-1997-Aprile.csv', 'Palermo-1997-Dicembre.csv', 'Palermo-1997-Febbraio.csv', 'Palermo-1997-Gennaio.csv', 'Palermo-1997-Giugno.csv', 'Palermo-1997-Luglio.csv', 'Palermo-1997-Maggio.csv', 'Palermo-1997-Marzo.csv', 'Palermo-1997-Novembre.csv', 'Palermo-1997-Ottobre.csv', 'Palermo-1997-Settembre.csv', 'Palermo-1998-Agosto.csv', 'Palermo-1998-Aprile.csv', 'Palermo-1998-Dicembre.csv', 'Palermo-1998-Febbraio.csv', 'Palermo-1998-Gennaio.csv', 'Palermo-1998-Giugno.csv', 'Palermo-1998-Luglio.csv', 'Palermo-1998-Maggio.csv', 'Palermo-1998-Marzo.csv', 'Palermo-1998-Novembre.csv', 'Palermo-1998-Ottobre.csv', 'Palermo-1998-Settembre.csv', 'Palermo-1999-Agosto.csv', 'Palermo-1999-Aprile.csv', 'Palermo-1999-Dicembre.csv', 'Palermo-1999-Febbraio.csv', 'Palermo-1999-Gennaio.csv', 'Palermo-1999-Giugno.csv', 'Palermo-1999-Luglio.csv', 'Palermo-1999-Maggio.csv', 'Palermo-1999-Marzo.csv', 'Palermo-1999-Novembre.csv', 'Palermo-1999-Ottobre.csv', 'Palermo-1999-Settembre.csv', 'Palermo-2000-Agosto.csv', 'Palermo-2000-Aprile.csv', 'Palermo-2000-Dicembre.csv', 'Palermo-2000-Febbraio.csv', 'Palermo-2000-Gennaio.csv', 'Palermo-2000-Giugno.csv', 'Palermo-2000-Luglio.csv', 'Palermo-2000-Maggio.csv', 'Palermo-2000-Marzo.csv', 'Palermo-2000-Novembre.csv', 'Palermo-2000-Ottobre.csv', 'Palermo-2000-Settembre.csv', 'Palermo-2001-Agosto.csv', 'Palermo-2001-Aprile.csv', 'Palermo-2001-Dicembre.csv', 'Palermo-2001-Febbraio.csv', 'Palermo-2001-Gennaio.csv', 'Palermo-2001-Giugno.csv', 'Palermo-2001-Luglio.csv', 'Palermo-2001-Maggio.csv', 'Palermo-2001-Marzo.csv', 'Palermo-2001-Novembre.csv', 'Palermo-2001-Ottobre.csv', 'Palermo-2001-Settembre.csv', 'Palermo-2002-Agosto.csv', 'Palermo-2002-Aprile.csv', 'Palermo-2002-Dicembre.csv', 'Palermo-2002-Febbraio.csv', 'Palermo-2002-Gennaio.csv', 'Palermo-2002-Giugno.csv', 'Palermo-2002-Luglio.csv', 'Palermo-2002-Maggio.csv', 'Palermo-2002-Marzo.csv', 'Palermo-2002-Novembre.csv', 'Palermo-2002-Ottobre.csv', 'Palermo-2002-Settembre.csv', 'Palermo-2003-Agosto.csv', 'Palermo-2003-Aprile.csv', 'Palermo-2003-Dicembre.csv', 'Palermo-2003-Febbraio.csv', 'Palermo-2003-Gennaio.csv', 'Palermo-2003-Giugno.csv', 'Palermo-2003-Luglio.csv', 'Palermo-2003-Maggio.csv', 'Palermo-2003-Marzo.csv', 'Palermo-2003-Novembre.csv', 'Palermo-2003-Ottobre.csv', 'Palermo-2003-Settembre.csv', 'Palermo-2004-Agosto.csv', 'Palermo-2004-Aprile.csv', 'Palermo-2004-Dicembre.csv', 'Palermo-2004-Febbraio.csv', 'Palermo-2004-Gennaio.csv', 'Palermo-2004-Giugno.csv', 'Palermo-2004-Luglio.csv', 'Palermo-2004-Maggio.csv', 'Palermo-2004-Marzo.csv', 'Palermo-2004-Novembre.csv', 'Palermo-2004-Ottobre.csv', 'Palermo-2004-Settembre.csv', 'Palermo-2005-Agosto.csv', 'Palermo-2005-Aprile.csv', 'Palermo-2005-Dicembre.csv', 'Palermo-2005-Febbraio.csv', 'Palermo-2005-Gennaio.csv', 'Palermo-2005-Giugno.csv', 'Palermo-2005-Luglio.csv', 'Palermo-2005-Maggio.csv', 'Palermo-2005-Marzo.csv', 'Palermo-2005-Novembre.csv', 'Palermo-2005-Ottobre.csv', 'Palermo-2005-Settembre.csv', 'Palermo-2006-Agosto.csv', 'Palermo-2006-Aprile.csv', 'Palermo-2006-Dicembre.csv', 'Palermo-2006-Febbraio.csv', 'Palermo-2006-Gennaio.csv', 'Palermo-2006-Giugno.csv', 'Palermo-2006-Luglio.csv', 'Palermo-2006-Maggio.csv', 'Palermo-2006-Marzo.csv', 'Palermo-2006-Novembre.csv', 'Palermo-2006-Ottobre.csv', 'Palermo-2006-Settembre.csv', 'Palermo-2007-Agosto.csv', 'Palermo-2007-Aprile.csv', 'Palermo-2007-Dicembre.csv', 'Palermo-2007-Febbraio.csv', 'Palermo-2007-Gennaio.csv', 'Palermo-2007-Giugno.csv', 'Palermo-2007-Luglio.csv', 'Palermo-2007-Maggio.csv', 'Palermo-2007-Marzo.csv', 'Palermo-2007-Novembre.csv', 'Palermo-2007-Ottobre.csv', 'Palermo-2007-Settembre.csv', 'Palermo-2008-Agosto.csv', 'Palermo-2008-Aprile.csv', 'Palermo-2008-Dicembre.csv', 'Palermo-2008-Febbraio.csv', 'Palermo-2008-Gennaio.csv', 'Palermo-2008-Giugno.csv', 'Palermo-2008-Luglio.csv', 'Palermo-2008-Maggio.csv', 'Palermo-2008-Marzo.csv', 'Palermo-2008-Novembre.csv', 'Palermo-2008-Ottobre.csv', 'Palermo-2008-Settembre.csv', 'Palermo-2009-Agosto.csv', 'Palermo-2009-Aprile.csv', 'Palermo-2009-Dicembre.csv', 'Palermo-2009-Febbraio.csv', 'Palermo-2009-Gennaio.csv', 'Palermo-2009-Giugno.csv', 'Palermo-2009-Luglio.csv', 'Palermo-2009-Maggio.csv', 'Palermo-2009-Marzo.csv', 'Palermo-2009-Novembre.csv', 'Palermo-2009-Ottobre.csv', 'Palermo-2009-Settembre.csv', 'Palermo-2010-Agosto.csv', 'Palermo-2010-Aprile.csv', 'Palermo-2010-Dicembre.csv', 'Palermo-2010-Febbraio.csv', 'Palermo-2010-Gennaio.csv', 'Palermo-2010-Giugno.csv', 'Palermo-2010-Luglio.csv', 'Palermo-2010-Maggio.csv', 'Palermo-2010-Marzo.csv', 'Palermo-2010-Novembre.csv', 'Palermo-2010-Ottobre.csv', 'Palermo-2010-Settembre.csv', 'Palermo-2011-Agosto.csv', 'Palermo-2011-Aprile.csv', 'Palermo-2011-Dicembre.csv', 'Palermo-2011-Febbraio.csv', 'Palermo-2011-Gennaio.csv', 'Palermo-2011-Giugno.csv', 'Palermo-2011-Luglio.csv', 'Palermo-2011-Maggio.csv', 'Palermo-2011-Marzo.csv', 'Palermo-2011-Novembre.csv', 'Palermo-2011-Ottobre.csv', 'Palermo-2011-Settembre.csv', 'Palermo-2012-Agosto.csv', 'Palermo-2012-Aprile.csv', 'Palermo-2012-Dicembre.csv', 'Palermo-2012-Febbraio.csv', 'Palermo-2012-Gennaio.csv', 'Palermo-2012-Giugno.csv', 'Palermo-2012-Luglio.csv', 'Palermo-2012-Maggio.csv', 'Palermo-2012-Marzo.csv', 'Palermo-2012-Novembre.csv', 'Palermo-2012-Ottobre.csv', 'Palermo-2012-Settembre.csv', 'Palermo-2013-Agosto.csv', 'Palermo-2013-Aprile.csv', 'Palermo-2013-Dicembre.csv', 'Palermo-2013-Febbraio.csv', 'Palermo-2013-Gennaio.csv', 'Palermo-2013-Giugno.csv', 'Palermo-2013-Luglio.csv', 'Palermo-2013-Maggio.csv', 'Palermo-2013-Marzo.csv', 'Palermo-2013-Novembre.csv', 'Palermo-2013-Ottobre.csv', 'Palermo-2013-Settembre.csv', 'Palermo-2014-Agosto.csv', 'Palermo-2014-Aprile.csv', 'Palermo-2014-Dicembre.csv', 'Palermo-2014-Febbraio.csv', 'Palermo-2014-Gennaio.csv', 'Palermo-2014-Giugno.csv', 'Palermo-2014-Luglio.csv', 'Palermo-2014-Maggio.csv', 'Palermo-2014-Marzo.csv', 'Palermo-2014-Novembre.csv', 'Palermo-2014-Ottobre.csv', 'Palermo-2014-Settembre.csv', 'Palermo-2015-Agosto.csv', 'Palermo-2015-Aprile.csv', 'Palermo-2015-Dicembre.csv', 'Palermo-2015-Febbraio.csv', 'Palermo-2015-Gennaio.csv', 'Palermo-2015-Giugno.csv', 'Palermo-2015-Luglio.csv', 'Palermo-2015-Maggio.csv', 'Palermo-2015-Marzo.csv', 'Palermo-2015-Novembre.csv', 'Palermo-2015-Ottobre.csv', 'Palermo-2015-Settembre.csv', 'Palermo-2016-Agosto.csv', 'Palermo-2016-Aprile.csv', 'Palermo-2016-Dicembre.csv', 'Palermo-2016-Febbraio.csv', 'Palermo-2016-Gennaio.csv', 'Palermo-2016-Giugno.csv', 'Palermo-2016-Luglio.csv', 'Palermo-2016-Maggio.csv', 'Palermo-2016-Marzo.csv', 'Palermo-2016-Novembre.csv', 'Palermo-2016-Ottobre.csv', 'Palermo-2016-Settembre.csv', 'Palermo-2017-Agosto.csv', 'Palermo-2017-Aprile.csv', 'Palermo-2017-Dicembre.csv', 'Palermo-2017-Febbraio.csv', 'Palermo-2017-Gennaio.csv', 'Palermo-2017-Giugno.csv', 'Palermo-2017-Luglio.csv', 'Palermo-2017-Maggio.csv', 'Palermo-2017-Marzo.csv', 'Palermo-2017-Novembre.csv', 'Palermo-2017-Ottobre.csv', 'Palermo-2017-Settembre.csv', 'Palermo-2018-Agosto.csv', 'Palermo-2018-Aprile.csv', 'Palermo-2018-Dicembre.csv', 'Palermo-2018-Febbraio.csv', 'Palermo-2018-Gennaio.csv', 'Palermo-2018-Giugno.csv', 'Palermo-2018-Luglio.csv', 'Palermo-2018-Maggio.csv', 'Palermo-2018-Marzo.csv', 'Palermo-2018-Novembre.csv', 'Palermo-2018-Ottobre.csv', 'Palermo-2018-Settembre.csv', 'Palermo-2019-Agosto.csv', 'Palermo-2019-Aprile.csv', 'Palermo-2019-Dicembre.csv', 'Palermo-2019-Febbraio.csv', 'Palermo-2019-Gennaio.csv', 'Palermo-2019-Giugno.csv', 'Palermo-2019-Luglio.csv', 'Palermo-2019-Maggio.csv', 'Palermo-2019-Marzo.csv', 'Palermo-2019-Novembre.csv', 'Palermo-2019-Ottobre.csv', 'Palermo-2019-Settembre.csv', 'Palermo-2020-Agosto.csv', 'Palermo-2020-Aprile.csv', 'Palermo-2020-Dicembre.csv', 'Palermo-2020-Febbraio.csv', 'Palermo-2020-Gennaio.csv', 'Palermo-2020-Giugno.csv', 'Palermo-2020-Luglio.csv', 'Palermo-2020-Maggio.csv', 'Palermo-2020-Marzo.csv', 'Palermo-2020-Novembre.csv', 'Palermo-2020-Ottobre.csv', 'Palermo-2020-Settembre.csv', 'Palermo-2021-Agosto.csv', 'Palermo-2021-Aprile.csv', 'Palermo-2021-Dicembre.csv', 'Palermo-2021-Febbraio.csv', 'Palermo-2021-Gennaio.csv', 'Palermo-2021-Giugno.csv', 'Palermo-2021-Luglio.csv', 'Palermo-2021-Maggio.csv', 'Palermo-2021-Marzo.csv', 'Palermo-2021-Novembre.csv', 'Palermo-2021-Ottobre.csv', 'Palermo-2021-Settembre.csv', 'Palermo-2022-Agosto.csv', 'Palermo-2022-Aprile.csv', 'Palermo-2022-Dicembre.csv', 'Palermo-2022-Febbraio.csv', 'Palermo-2022-Gennaio.csv', 'Palermo-2022-Giugno.csv', 'Palermo-2022-Luglio.csv', 'Palermo-2022-Maggio.csv', 'Palermo-2022-Marzo.csv', 'Palermo-2022-Novembre.csv', 'Palermo-2022-Ottobre.csv', 'Palermo-2022-Settembre.csv', 'Palermo-2023-Agosto.csv', 'Palermo-2023-Aprile.csv', 'Palermo-2023-Febbraio.csv', 'Palermo-2023-Gennaio.csv', 'Palermo-2023-Giugno.csv', 'Palermo-2023-Luglio.csv', 'Palermo-2023-Maggio.csv', 'Palermo-2023-Marzo.csv', 'Palermo-2023-Novembre.csv', 'Palermo-2023-Ottobre.csv', 'Palermo-2023-Settembre.csv']\n"
     ]
    }
   ],
   "source": [
    "csv_files = glob.glob('*.{}'.format('csv'))\n"
   ]
  },
  {
   "cell_type": "code",
   "execution_count": 5,
   "id": "47438b16",
   "metadata": {},
   "outputs": [
    {
     "name": "stdout",
     "output_type": "stream",
     "text": [
      "           Unnamed: 0 LOCALITA TMEDIA °C TMIN °C TMAX °C PUNTORUGIADA °C  \\\n",
      "DATA                                                                       \n",
      "1/8/1973          0.0  Palermo      25.1      22      28            20.9   \n",
      "2/8/1973          1.0  Palermo      26.8      24      30            21.5   \n",
      "3/8/1973          2.0  Palermo      25.1      23      27            21.6   \n",
      "4/8/1973          3.0  Palermo      24.9      23      27            21.6   \n",
      "5/8/1973          4.0  Palermo      25.3      23      27            21.7   \n",
      "...               ...      ...       ...     ...     ...             ...   \n",
      "26/9/2023        25.0  Palermo        22      18      25              17   \n",
      "27/9/2023        26.0  Palermo        24      21      25              19   \n",
      "28/9/2023        27.0  Palermo        23      20      25              18   \n",
      "29/9/2023        28.0  Palermo        23      20      25              18   \n",
      "30/9/2023        29.0  Palermo        23      20      25              18   \n",
      "\n",
      "          UMIDITA % VISIBILITA km VENTOMEDIA km/h VENTOMAX km/h RAFFICA km/h  \\\n",
      "DATA                                                                           \n",
      "1/8/1973         78            10               4            28           29   \n",
      "2/8/1973         73            11              24            37            0   \n",
      "3/8/1973         81            10               7            28            0   \n",
      "4/8/1973         82            10               7            28            0   \n",
      "5/8/1973         80            10               8            18            0   \n",
      "...             ...           ...             ...           ...          ...   \n",
      "26/9/2023        73            19              28            42            0   \n",
      "27/9/2023        73            20              18            33            0   \n",
      "28/9/2023        77            19              11            24            0   \n",
      "29/9/2023        75            21              10            18            0   \n",
      "30/9/2023        74            20               8            15            0   \n",
      "\n",
      "          PRESSIONESLM mb PRESSIONEMEDIA mb PIOGGIA mm            FENOMENI  \n",
      "DATA                                                                        \n",
      "1/8/1973                0                 0        0.0                 NaN  \n",
      "2/8/1973                0                 0        0.0                 NaN  \n",
      "3/8/1973                0                 0        0.0                 NaN  \n",
      "4/8/1973                0                 0        0.0                 NaN  \n",
      "5/8/1973                0                 0        0.0                 NaN  \n",
      "...                   ...               ...        ...                 ...  \n",
      "26/9/2023            1013                 0          0            pioggia   \n",
      "27/9/2023            1015                 0          0  pioggia temporale   \n",
      "28/9/2023            1017                 0          0                 NaN  \n",
      "29/9/2023            1019                 0          0                 NaN  \n",
      "30/9/2023            1021                 0          0                 NaN  \n",
      "\n",
      "[18578 rows x 15 columns]\n"
     ]
    }
   ],
   "source": [
    "df_all= pd.DataFrame()\n",
    "\n",
    "for file in csv_files:\n",
    "    f=open(file)\n",
    "    firstline=f.readline()\n",
    "    delimeter= detect(firstline)\n",
    "    df_temp= pd.read_csv(file, sep=delimeter, index_col='DATA', decimal=',')\n",
    "    df_all= pd.concat([df_all,df_temp])\n",
    "    \n",
    "print(df_all)"
   ]
  },
  {
   "cell_type": "markdown",
   "id": "e2f987a7",
   "metadata": {},
   "source": [
    "## 4. Cleaning data"
   ]
  },
  {
   "cell_type": "code",
   "execution_count": 6,
   "id": "c6e8a0e9",
   "metadata": {},
   "outputs": [
    {
     "data": {
      "text/plain": [
       "Unnamed: 0            1096\n",
       "LOCALITA                 0\n",
       "TMEDIA °C               42\n",
       "TMIN °C                 42\n",
       "TMAX °C                 42\n",
       "PUNTORUGIADA °C         42\n",
       "UMIDITA %               42\n",
       "VISIBILITA km           42\n",
       "VENTOMEDIA km/h         42\n",
       "VENTOMAX km/h           42\n",
       "RAFFICA km/h            42\n",
       "PRESSIONESLM mb         42\n",
       "PRESSIONEMEDIA mb       42\n",
       "PIOGGIA mm              42\n",
       "FENOMENI             12843\n",
       "dtype: int64"
      ]
     },
     "execution_count": 6,
     "metadata": {},
     "output_type": "execute_result"
    }
   ],
   "source": [
    "weather= df_all.copy()\n",
    "weather.apply(pd.isnull).sum()"
   ]
  },
  {
   "cell_type": "code",
   "execution_count": 7,
   "id": "253ae67a",
   "metadata": {},
   "outputs": [],
   "source": [
    "core_weather=weather[['TMEDIA °C','TMIN °C','TMAX °C','PIOGGIA mm']].copy()\n",
    "core_weather.index= pd.to_datetime(core_weather.index,format='%d/%m/%Y')\n",
    "core_weather[pd.isnull(core_weather['TMEDIA °C'])]\n",
    "core_weather=core_weather.fillna(method='ffill')\n",
    "\n",
    "core_weather.index=pd.to_datetime(core_weather.index)\n",
    "core_weather['TMEDIA °C']=pd.to_numeric(core_weather['TMEDIA °C'])\n",
    "core_weather['TMIN °C']=pd.to_numeric(core_weather['TMIN °C'])\n",
    "core_weather['TMAX °C']=pd.to_numeric(core_weather['TMAX °C'])\n",
    "core_weather['PIOGGIA mm']=pd.to_numeric(core_weather['PIOGGIA mm'])"
   ]
  },
  {
   "cell_type": "markdown",
   "id": "1f0a0a75",
   "metadata": {},
   "source": [
    "## 5. Data analysis"
   ]
  },
  {
   "cell_type": "code",
   "execution_count": 8,
   "id": "1e389736",
   "metadata": {},
   "outputs": [
    {
     "data": {
      "image/png": "[encoded data removed]",
      "text/plain": [
       "<Figure size 640x480 with 1 Axes>"
      ]
     },
     "metadata": {},
     "output_type": "display_data"
    }
   ],
   "source": [
    "core_weather[['TMIN °C','TMAX °C']].plot()\n",
    "core_weather.index.year.value_counts().sort_index()\n",
    "\n",
    "core_weather[\"target\"]= core_weather.shift(-1)['TMEDIA °C']\n",
    "core_weather= core_weather.iloc[:-1,:].copy()"
   ]
  },
  {
   "cell_type": "markdown",
   "id": "f62aeb1e",
   "metadata": {},
   "source": [
    "## 6. Machine Learning"
   ]
  },
  {
   "cell_type": "code",
   "execution_count": 9,
   "id": "d3261283",
   "metadata": {},
   "outputs": [
    {
     "name": "stdout",
     "output_type": "stream",
     "text": [
      "1.2875482220789007\n"
     ]
    }
   ],
   "source": [
    "from sklearn.linear_model import Ridge\n",
    "from sklearn.metrics import mean_absolute_error\n",
    "\n",
    "def create_predictions(predictors, core_weather, reg):\n",
    "    train = core_weather.loc[:\"2022-12-31\"]\n",
    "    test = core_weather.loc[\"2023-01-01\":]\n",
    "    reg.fit(train[predictors], train[\"target\"])\n",
    "    Ridge(alpha=0.1)\n",
    "    predictions = reg.predict(test[predictors])\n",
    "    error= mean_absolute_error(test[\"target\"], predictions)\n",
    "    combined= pd.concat([test[\"target\"],pd.Series(predictions,index=test.index)],axis=1)\n",
    "    combined.columns=[\"actual\",\"predictions\"]\n",
    "    return error, combined\n",
    "\n",
    "\n",
    "reg= Ridge(alpha=.1)\n",
    "\n",
    "predictors = ['TMEDIA °C','TMIN °C','TMAX °C','PIOGGIA mm']\n",
    "\n",
    "error, combined = create_predictions(predictors, core_weather, reg)\n",
    "print(error)"
   ]
  },
  {
   "cell_type": "markdown",
   "id": "ce5763f8",
   "metadata": {},
   "source": [
    "## 7. Tunning ML with extra data"
   ]
  },
  {
   "cell_type": "code",
   "execution_count": 10,
   "id": "a01ef536",
   "metadata": {},
   "outputs": [
    {
     "name": "stdout",
     "output_type": "stream",
     "text": [
      "1.2140319071829813\n"
     ]
    }
   ],
   "source": [
    "core_weather[\"month max\"]= core_weather['TMEDIA °C'].rolling(30).mean()\n",
    "core_weather= core_weather.iloc[30:,:].copy()\n",
    "core_weather[\"min_max\"]= core_weather['TMIN °C']/ core_weather['TMAX °C']\n",
    "core_weather['monthly_avg']= core_weather['TMEDIA °C'].groupby(core_weather.index.month,group_keys=False).apply(lambda x: x.expanding(1).mean())\n",
    "predictors=   ['TMEDIA °C','TMIN °C','TMAX °C','PIOGGIA mm','month max','monthly_avg']\n",
    "error, combined = create_predictions(predictors, core_weather, reg)\n",
    "print(error)"
   ]
  },
  {
   "cell_type": "markdown",
   "id": "bdd11419",
   "metadata": {},
   "source": [
    "## 8. Variables analysis"
   ]
  },
  {
   "cell_type": "code",
   "execution_count": 11,
   "id": "b4a9d15a",
   "metadata": {},
   "outputs": [
    {
     "data": {
      "text/html": [
       "<div>\n",
       "<style scoped>\n",
       "    .dataframe tbody tr th:only-of-type {\n",
       "        vertical-align: middle;\n",
       "    }\n",
       "\n",
       "    .dataframe tbody tr th {\n",
       "        vertical-align: top;\n",
       "    }\n",
       "\n",
       "    .dataframe thead th {\n",
       "        text-align: right;\n",
       "    }\n",
       "</style>\n",
       "<table border=\"1\" class=\"dataframe\">\n",
       "  <thead>\n",
       "    <tr style=\"text-align: right;\">\n",
       "      <th></th>\n",
       "      <th>actual</th>\n",
       "      <th>predictions</th>\n",
       "      <th>diff</th>\n",
       "    </tr>\n",
       "    <tr>\n",
       "      <th>DATA</th>\n",
       "      <th></th>\n",
       "      <th></th>\n",
       "      <th></th>\n",
       "    </tr>\n",
       "  </thead>\n",
       "  <tbody>\n",
       "    <tr>\n",
       "      <th>2023-07-31</th>\n",
       "      <td>18.0</td>\n",
       "      <td>26.560820</td>\n",
       "      <td>8.560820</td>\n",
       "    </tr>\n",
       "    <tr>\n",
       "      <th>2023-04-30</th>\n",
       "      <td>11.0</td>\n",
       "      <td>18.696644</td>\n",
       "      <td>7.696644</td>\n",
       "    </tr>\n",
       "    <tr>\n",
       "      <th>2023-05-31</th>\n",
       "      <td>12.0</td>\n",
       "      <td>19.584784</td>\n",
       "      <td>7.584784</td>\n",
       "    </tr>\n",
       "    <tr>\n",
       "      <th>2023-07-23</th>\n",
       "      <td>36.0</td>\n",
       "      <td>28.547939</td>\n",
       "      <td>7.452061</td>\n",
       "    </tr>\n",
       "    <tr>\n",
       "      <th>2023-01-31</th>\n",
       "      <td>20.0</td>\n",
       "      <td>13.005088</td>\n",
       "      <td>6.994912</td>\n",
       "    </tr>\n",
       "  </tbody>\n",
       "</table>\n",
       "</div>"
      ],
      "text/plain": [
       "            actual  predictions      diff\n",
       "DATA                                     \n",
       "2023-07-31    18.0    26.560820  8.560820\n",
       "2023-04-30    11.0    18.696644  7.696644\n",
       "2023-05-31    12.0    19.584784  7.584784\n",
       "2023-07-23    36.0    28.547939  7.452061\n",
       "2023-01-31    20.0    13.005088  6.994912"
      ]
     },
     "execution_count": 11,
     "metadata": {},
     "output_type": "execute_result"
    }
   ],
   "source": [
    "reg.coef_\n",
    "\n",
    "core_weather.corr()[\"target\"]\n",
    "combined[\"diff\"]=(combined[\"actual\"]-combined[\"predictions\"]).abs()\n",
    "\n",
    "combined.sort_values(\"diff\",ascending=False).head()\n"
   ]
  },
  {
   "cell_type": "code",
   "execution_count": null,
   "id": "c33b5dba",
   "metadata": {},
   "outputs": [],
   "source": []
  }
 ],
 "metadata": {
  "kernelspec": {
   "display_name": "Python 3 (ipykernel)",
   "language": "python",
   "name": "python3"
  },
  "language_info": {
   "codemirror_mode": {
    "name": "ipython",
    "version": 3
   },
   "file_extension": ".py",
   "mimetype": "text/x-python",
   "name": "python",
   "nbconvert_exporter": "python",
   "pygments_lexer": "ipython3",
   "version": "3.10.11"
  }
 },
 "nbformat": 4,
 "nbformat_minor": 5
}
